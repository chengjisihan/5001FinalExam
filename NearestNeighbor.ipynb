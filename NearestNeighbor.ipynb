{
 "cells": [
  {
   "cell_type": "markdown",
   "metadata": {},
   "source": [
    "# KNN"
   ]
  },
  {
   "cell_type": "code",
   "execution_count": 12,
   "metadata": {
    "collapsed": true
   },
   "outputs": [],
   "source": [
    "import pandas as pd\n",
    "import numpy as np"
   ]
  },
  {
   "cell_type": "code",
   "execution_count": 13,
   "metadata": {
    "collapsed": true
   },
   "outputs": [],
   "source": [
    "def BubbleSort(index, value, k):\n",
    "    for i in range(k-1, 0, -1):\n",
    "        #print i\n",
    "        for j in range(i):\n",
    "            #print j\n",
    "            if(value[j] > value[j+1]):\n",
    "                #print value[k-j-2], value[k-1], '\\n'\n",
    "                temp = value[j]\n",
    "                value[j] = value[j+1]\n",
    "                value[j+1] = temp\n",
    "                tempp = index[j]\n",
    "                index[j] = index [j+1]\n",
    "                index[j+1] = tempp\n",
    "    return index, value"
   ]
  },
  {
   "cell_type": "code",
   "execution_count": 14,
   "metadata": {
    "collapsed": true
   },
   "outputs": [],
   "source": [
    "def calNN(n, sample, df, k):\n",
    "    nn = []\n",
    "    dst = []\n",
    "    #print sample\n",
    "    for j in range(k):\n",
    "        temp = 0\n",
    "        for q in range(5):\n",
    "            if sample[q] != df[j][q]:\n",
    "               # print sample[q], df[j][q]\n",
    "                temp += 1\n",
    "        dst.append(temp)\n",
    "        nn.append(j)\n",
    "       # print \"finish, value = %d\\n\"%temp\n",
    "    #print nn, dst, '\\n'\n",
    "    nn, dst = BubbleSort(nn, dst, 14)\n",
    "    #print nn, dst\n",
    "    return nn[:n], dst[:n]        "
   ]
  },
  {
   "cell_type": "code",
   "execution_count": 15,
   "metadata": {},
   "outputs": [
    {
     "name": "stdout",
     "output_type": "stream",
     "text": [
      "[13, 1, 2, 3] [2, 3, 3, 3]\n",
      "M\n",
      "H\n",
      "M\n",
      "L\n",
      "[3, 9, 12, 1] [1, 2, 2, 3]\n",
      "L\n",
      "M\n",
      "M\n",
      "H\n",
      "[3, 11, 0, 13] [2, 2, 3, 3]\n",
      "L\n",
      "L\n",
      "H\n",
      "M\n",
      "[11, 1, 2, 4] [2, 3, 3, 3]\n",
      "L\n",
      "H\n",
      "M\n",
      "H\n",
      "[10, 0, 5, 13] [1, 2, 2, 2]\n",
      "L\n",
      "H\n",
      "H\n",
      "M\n",
      "[8, 0, 2, 5] [1, 2, 2, 2]\n",
      "M\n",
      "H\n",
      "M\n",
      "H\n"
     ]
    }
   ],
   "source": [
    "df = pd.read_csv(\"TADocuments.csv\")\n",
    "df = np.array(df)\n",
    "for i in range(6):\n",
    "    nn, dst = calNN(4, df[14+i], df, 14);\n",
    "    print nn, dst\n",
    "    for j in range(4):\n",
    "        print df[nn[j]][5]"
   ]
  },
  {
   "cell_type": "code",
   "execution_count": null,
   "metadata": {
    "collapsed": true
   },
   "outputs": [],
   "source": []
  },
  {
   "cell_type": "code",
   "execution_count": null,
   "metadata": {
    "collapsed": true
   },
   "outputs": [],
   "source": []
  }
 ],
 "metadata": {
  "kernelspec": {
   "display_name": "Python 2",
   "language": "python",
   "name": "python2"
  },
  "language_info": {
   "codemirror_mode": {
    "name": "ipython",
    "version": 2
   },
   "file_extension": ".py",
   "mimetype": "text/x-python",
   "name": "python",
   "nbconvert_exporter": "python",
   "pygments_lexer": "ipython2",
   "version": "2.7.13"
  }
 },
 "nbformat": 4,
 "nbformat_minor": 2
}
