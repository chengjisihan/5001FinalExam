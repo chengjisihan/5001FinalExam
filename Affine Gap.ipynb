{
 "cells": [
  {
   "cell_type": "code",
   "execution_count": 31,
   "metadata": {
    "collapsed": true
   },
   "outputs": [],
   "source": [
    "import pandas as pd\n",
    "import numpy as np"
   ]
  },
  {
   "cell_type": "code",
   "execution_count": 32,
   "metadata": {
    "collapsed": true
   },
   "outputs": [],
   "source": [
    "M_score = []\n",
    "X_score = []\n",
    "Y_score = []\n",
    "oper_M = []\n",
    "oper_X = []\n",
    "oper_Y = []\n",
    "Word1 = ['B', 'A', 'T', 'M', 'A', 'N']\n",
    "Word2 = ['B', 'A', 'T', 'M', 'M', 'A', 'A', 'N']\n",
    "c0 = -2\n",
    "cr = -1"
   ]
  },
  {
   "cell_type": "code",
   "execution_count": 33,
   "metadata": {},
   "outputs": [
    {
     "data": {
      "text/plain": [
       "[[-1000, -1000, -1000, -1000, -1000, -1000, -1000, -1000, -1000],\n",
       " [-1000, -1000, -1000, -1000, -1000, -1000, -1000, -1000, -1000],\n",
       " [-1000, -1000, -1000, -1000, -1000, -1000, -1000, -1000, -1000],\n",
       " [-1000, -1000, -1000, -1000, -1000, -1000, -1000, -1000, -1000],\n",
       " [-1000, -1000, -1000, -1000, -1000, -1000, -1000, -1000, -1000],\n",
       " [-1000, -1000, -1000, -1000, -1000, -1000, -1000, -1000, -1000],\n",
       " [-1000, -1000, -1000, -1000, -1000, -1000, -1000, -1000, -1000]]"
      ]
     },
     "execution_count": 33,
     "metadata": {},
     "output_type": "execute_result"
    }
   ],
   "source": [
    "for i in range(7):\n",
    "    Temp_M = []\n",
    "    Temp_X = []\n",
    "    Temp_Y = []\n",
    "    Temp_operation = []\n",
    "    for j in range(9):\n",
    "        Temp_M.append(-1000)\n",
    "        Temp_X.append(-1000)\n",
    "        Temp_Y.append(-1000)\n",
    "        Temp_operation.append(-1)\n",
    "    M_score.append(Temp_M)\n",
    "    X_score.append(Temp_X)\n",
    "    Y_score.append(Temp_Y)\n",
    "    oper_M.append(Temp_operation)\n",
    "    oper_X.append(Temp_operation)\n",
    "    oper_Y.append(Temp_operation)\n",
    "    operation.append(Temp_operation)\n",
    "M_score"
   ]
  },
  {
   "cell_type": "code",
   "execution_count": 34,
   "metadata": {
    "collapsed": true
   },
   "outputs": [],
   "source": [
    "def find_max3(a, b, c):\n",
    "    maximum = 0\n",
    "    maxi = 0\n",
    "    if (a > b):\n",
    "        if (a > c):\n",
    "            maximum = 0\n",
    "            maxi = a\n",
    "        else:\n",
    "            maximum = 2\n",
    "            maxi = c\n",
    "    else:\n",
    "        if (b > c):\n",
    "            maximum = 1\n",
    "            maxi = b\n",
    "        else:\n",
    "            maximum = 2\n",
    "            maxi = c\n",
    "    return maximum, maxi"
   ]
  },
  {
   "cell_type": "code",
   "execution_count": 35,
   "metadata": {
    "collapsed": true
   },
   "outputs": [],
   "source": [
    "def find_max2(a, b):\n",
    "    maximum = 0\n",
    "    maxi = 0\n",
    "    if (a>b):\n",
    "        maximum = 0\n",
    "        maxi = a\n",
    "    else:\n",
    "        maximum = 1\n",
    "        maxi = b\n",
    "    return maximum, maxi"
   ]
  },
  {
   "cell_type": "code",
   "execution_count": 36,
   "metadata": {},
   "outputs": [],
   "source": [
    "#maxi , index = find_max(5, 4, 3)\n",
    "#print(maxi, index)"
   ]
  },
  {
   "cell_type": "code",
   "execution_count": 37,
   "metadata": {},
   "outputs": [
    {
     "name": "stdout",
     "output_type": "stream",
     "text": [
      "[[0, -1000, -1000, -1000, -1000, -1000, -1000, -1000, -1000], [-1000, 2, -3, -4, -5, -6, -7, -8, -9], [-1000, -3, 4, -1, -2, -3, -1, -2, -6], [-1000, -4, -1, 6, 1, 0, -1, -2, -3], [-1000, -5, -2, 1, 8, 6, 2, 1, 0], [-1000, -6, 0, 0, 3, 7, 8, 7, 3], [-1000, -7, -4, -1, 2, 5, 6, 7, 9]]\n",
      "[[-2, -1000, -1000, -1000, -1000, -1000, -1000, -1000, -1000], [-2, -1001, -1001, -1001, -1001, -1001, -1001, -1001, -1001], [-3, 0, -5, -6, -7, -8, -9, -10, -11], [-4, -1, 2, -3, -4, -5, -3, -4, -8], [-5, -2, 1, 4, -1, -2, -3, -4, -5], [-6, -3, 0, 3, 6, 4, 0, -1, -2], [-7, -4, -1, 2, 5, 5, 6, 5, 1]]\n",
      "[[-2, -2, -3, -4, -5, -6, -7, -8, -9], [-1000, -1001, 0, -1, -2, -3, -4, -5, -6], [-1000, -1001, -5, 2, 1, 0, -1, -2, -3], [-1000, -1001, -6, -3, 4, 3, 2, 1, 0], [-1000, -1001, -7, -4, -1, 6, 5, 4, 3], [-1000, -1001, -8, -2, -2, 1, 5, 6, 5], [-1000, -1001, -9, -6, -3, 0, 3, 4, 5]]\n"
     ]
    }
   ],
   "source": [
    "M_score[0][0] = 0\n",
    "X_score[0][0] = -2\n",
    "Y_score[0][0] = -2\n",
    "m = 0\n",
    "x = 0\n",
    "y = 0\n",
    "op_m = 0\n",
    "op_x = 0\n",
    "op_y = 0\n",
    "swap_cost = 0\n",
    "for i in range(1,7):\n",
    "    X_score[i][0] = c0 + (i-1) * cr\n",
    "for i in range(1,9):\n",
    "    Y_score[0][i] = c0 + (i-1) * cr\n",
    "for i in range(1,7):\n",
    "    for j in range(1,9):\n",
    "        if (Word1[i-1] == Word2[j-1]):\n",
    "            swap_cost = 2\n",
    "        else:\n",
    "            swap_cost = -1\n",
    "        oper_M[i][j], M_score[i][j] = find_max3(M_score[i-1][j-1] + swap_cost,\n",
    "                                       X_score[i-1][j-1] + swap_cost,\n",
    "                                       Y_score[i-1][j-1] + swap_cost)\n",
    "        oper_X[i][j], X_score[i][j] = find_max2(M_score[i-1][j] + c0,\n",
    "                                       X_score[i-1][j] + cr)\n",
    "        oper_Y[i][j], Y_score[i][j] = find_max2(M_score[i][j-1] + c0,\n",
    "                                        Y_score[i][j-1] + cr)\n",
    "print(M_score)\n",
    "print(X_score)\n",
    "print(Y_score)"
   ]
  },
  {
   "cell_type": "code",
   "execution_count": 38,
   "metadata": {},
   "outputs": [
    {
     "name": "stdout",
     "output_type": "stream",
     "text": [
      "[[-1, -1, -1, -1, -1, -1, -1, -1, -1], [-1, 1, 0, 1, 1, 1, 1, 1, 1], [-1, 1, 0, 0, 1, 1, 1, 1, 1], [-1, 1, 0, 0, 0, 1, 1, 1, 1], [-1, 1, 0, 0, 0, 0, 1, 1, 1], [-1, 1, 0, 0, 0, 0, 0, 0, 1], [-1, 1, 0, 0, 0, 0, 0, 0, 0]]\n"
     ]
    }
   ],
   "source": [
    "print(oper_M)"
   ]
  },
  {
   "cell_type": "code",
   "execution_count": 39,
   "metadata": {},
   "outputs": [
    {
     "name": "stdout",
     "output_type": "stream",
     "text": [
      "[[-1, -1, -1, -1, -1, -1, -1, -1, -1], [-1, 1, 0, 1, 1, 1, 1, 1, 1], [-1, 1, 0, 0, 1, 1, 1, 1, 1], [-1, 1, 0, 0, 0, 1, 1, 1, 1], [-1, 1, 0, 0, 0, 0, 1, 1, 1], [-1, 1, 0, 0, 0, 0, 0, 0, 1], [-1, 1, 0, 0, 0, 0, 0, 0, 0]]\n"
     ]
    }
   ],
   "source": [
    "print(oper_X)"
   ]
  },
  {
   "cell_type": "code",
   "execution_count": 40,
   "metadata": {},
   "outputs": [
    {
     "name": "stdout",
     "output_type": "stream",
     "text": [
      "[[-1, -1, -1, -1, -1, -1, -1, -1, -1], [-1, 1, 0, 1, 1, 1, 1, 1, 1], [-1, 1, 0, 0, 1, 1, 1, 1, 1], [-1, 1, 0, 0, 0, 1, 1, 1, 1], [-1, 1, 0, 0, 0, 0, 1, 1, 1], [-1, 1, 0, 0, 0, 0, 0, 0, 1], [-1, 1, 0, 0, 0, 0, 0, 0, 0]]\n"
     ]
    }
   ],
   "source": [
    "print(oper_Y)"
   ]
  },
  {
   "cell_type": "code",
   "execution_count": null,
   "metadata": {
    "collapsed": true
   },
   "outputs": [],
   "source": []
  }
 ],
 "metadata": {
  "kernelspec": {
   "display_name": "Python 2",
   "language": "python",
   "name": "python2"
  },
  "language_info": {
   "codemirror_mode": {
    "name": "ipython",
    "version": 2
   },
   "file_extension": ".py",
   "mimetype": "text/x-python",
   "name": "python",
   "nbconvert_exporter": "python",
   "pygments_lexer": "ipython2",
   "version": "2.7.13"
  }
 },
 "nbformat": 4,
 "nbformat_minor": 2
}
